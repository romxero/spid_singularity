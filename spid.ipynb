{
 "cells": [
  {
   "cell_type": "markdown",
   "id": "319bda19",
   "metadata": {},
   "source": [
    "# Example notebook showcasing investigation of a small outbreak of Vancomycin Resistant Enterococcus (VRE) in patient samples\n",
    "\n",
    "Data has previously gone through QC and anlysis via the CZID pipeline https://chanzuckerberg.zendesk.com/hc/en-us/articles/360050326971-Guide-Data-Analysis "
   ]
  },
  {
   "cell_type": "markdown",
   "id": "4ac94c78",
   "metadata": {},
   "source": [
    "## Preliminary steps & getting files ready for analysis"
   ]
  },
  {
   "cell_type": "code",
   "execution_count": 1,
   "id": "5d95dd54",
   "metadata": {},
   "outputs": [],
   "source": [
    "import os\n",
    "import re\n",
    "import pandas as pd\n",
    "import numpy as np\n",
    "import seaborn as sns\n",
    "import matplotlib.pyplot as plt"
   ]
  },
  {
   "cell_type": "markdown",
   "id": "402679bf",
   "metadata": {},
   "source": [
    "### This is where the directory is mounted at (/data)"
   ]
  },
  {
   "cell_type": "code",
   "execution_count": 2,
   "id": "d419623a",
   "metadata": {},
   "outputs": [],
   "source": [
    "import seaborn as sns\n"
   ]
  },
  {
   "cell_type": "code",
   "execution_count": 3,
   "id": "039b0416",
   "metadata": {},
   "outputs": [
    {
     "data": {
      "text/plain": [
       "'/home/randall.white/spid_singularity'"
      ]
     },
     "execution_count": 3,
     "metadata": {},
     "output_type": "execute_result"
    }
   ],
   "source": [
    "pwd"
   ]
  },
  {
   "cell_type": "code",
   "execution_count": 4,
   "id": "0d5e0731",
   "metadata": {},
   "outputs": [
    {
     "name": "stdout",
     "output_type": "stream",
     "text": [
      "/home/randall.white\n"
     ]
    }
   ],
   "source": [
    "cd ../"
   ]
  },
  {
   "cell_type": "code",
   "execution_count": 5,
   "id": "51f81d3f",
   "metadata": {},
   "outputs": [
    {
     "name": "stdout",
     "output_type": "stream",
     "text": [
      "\u001b[0m\u001b[01;34mDesktop\u001b[0m/\r\n",
      "\u001b[01;34mDocuments\u001b[0m/\r\n",
      "\u001b[01;34mDownloads\u001b[0m/\r\n",
      "Manifest.toml\r\n",
      "\u001b[01;34mMusic\u001b[0m/\r\n",
      "\u001b[01;34mParaView-5.12.0-RC1-MPI-Linux-Python3.10-x86_64\u001b[0m/\r\n",
      "ParaView-5.12.0-RC1-MPI-Linux-Python3.10-x86_64.tar.gz\r\n",
      "\u001b[01;34mPictures\u001b[0m/\r\n",
      "Project.toml\r\n",
      "\u001b[01;34mPublic\u001b[0m/\r\n",
      "\u001b[01;34mR\u001b[0m/\r\n",
      "\u001b[01;34mTemplates\u001b[0m/\r\n",
      "Untitled.ipynb\r\n",
      "Untitled1.ipynb\r\n",
      "Untitled10.ipynb\r\n",
      "Untitled11.ipynb\r\n",
      "Untitled12.ipynb\r\n",
      "Untitled13.ipynb\r\n",
      "Untitled14.ipynb\r\n",
      "Untitled15.ipynb\r\n",
      "Untitled16.ipynb\r\n",
      "Untitled17.ipynb\r\n",
      "Untitled2.ipynb\r\n",
      "Untitled3.ipynb\r\n",
      "Untitled4.ipynb\r\n",
      "Untitled5.ipynb\r\n",
      "Untitled6.ipynb\r\n",
      "Untitled7.ipynb\r\n",
      "Untitled8.ipynb\r\n",
      "Untitled9.ipynb\r\n",
      "\u001b[01;34mVideos\u001b[0m/\r\n",
      "\u001b[01;34maocc-compiler-4.1.0\u001b[0m/\r\n",
      "aocc-compiler-4.1.0.tar\r\n",
      "aocc-compiler-4.1.0.tar.1\r\n",
      "\u001b[01;34maocl-linux-aocc-4.1.0\u001b[0m/\r\n",
      "aocl-linux-aocc-4.1.0.tar.gz\r\n",
      "config.py\r\n",
      "\u001b[01;34mcpuid\u001b[0m/\r\n",
      "\u001b[01;34mcryosparc-v2\u001b[0m/\r\n",
      "downloadTestData.sh\r\n",
      "\u001b[01;34mgriznog_repo\u001b[0m/\r\n",
      "\u001b[01;32mgui_automation.sif\u001b[0m*\r\n",
      "\u001b[01;34mhpc\u001b[0m/\r\n",
      "id_ecdsa\r\n",
      "id_ecdsa.pub\r\n",
      "job_submission1.sh\r\n",
      "job_submission1.sh.save\r\n",
      "job_submission2.sh\r\n",
      "my_macbook_keys.tar.xz\r\n",
      "nodeList.txt\r\n",
      "\u001b[01;34mondemand\u001b[0m/\r\n",
      "packageList.txt\r\n",
      "\u001b[01;34mpkgs\u001b[0m/\r\n",
      "raxml-ng_v1.2.1_linux_x86_64.zip\r\n",
      "raxml-ng_v1.2.1_linux_x86_64_MPI.zip\r\n",
      "\u001b[01;34mrc_apps\u001b[0m/\r\n",
      "\u001b[01;34mrc_repos\u001b[0m/\r\n",
      "rclone_test.sh\r\n",
      "send_msgto_webhook_11750048.4294967294.err\r\n",
      "send_msgto_webhook_11750048.4294967294.out\r\n",
      "\u001b[01;34mserc_spack_env\u001b[0m/\r\n",
      "\u001b[01;34mslurm-config-bruno\u001b[0m/\r\n",
      "\u001b[01;34mslurm-utils\u001b[0m/\r\n",
      "\u001b[01;34mspack_cz_tester\u001b[0m/\r\n",
      "\u001b[01;34mspid_cache\u001b[0m/\r\n",
      "spid_env.sh\r\n",
      "\u001b[01;34mspid_singularity\u001b[0m/\r\n",
      "\u001b[01;32mtest_spid.sh\u001b[0m*\r\n",
      "testnvidiastuff.sh\r\n",
      "wget-log\r\n"
     ]
    }
   ],
   "source": [
    "ls"
   ]
  },
  {
   "cell_type": "code",
   "execution_count": 6,
   "id": "a14d7bf2",
   "metadata": {},
   "outputs": [
    {
     "name": "stdout",
     "output_type": "stream",
     "text": [
      "/hpc/scratch/group.data.science/eric_temp/spid/RR192/spidtest\n"
     ]
    }
   ],
   "source": [
    "cd spidtest"
   ]
  },
  {
   "cell_type": "code",
   "execution_count": 7,
   "id": "66cd1c9b",
   "metadata": {},
   "outputs": [
    {
     "name": "stdout",
     "output_type": "stream",
     "text": [
      "/hpc/scratch/group.data.science/eric_temp/spid/RR192\n"
     ]
    }
   ],
   "source": [
    "cd .."
   ]
  },
  {
   "cell_type": "code",
   "execution_count": 8,
   "id": "4aec8681",
   "metadata": {},
   "outputs": [
    {
     "name": "stdout",
     "output_type": "stream",
     "text": [
      ">CP011306.1 Stenotrophomonas maltophilia strain ISMMS2R, complete genome\r\n",
      "AGGCGGGCGCTCGGTGGTAGTCTGAGCCATCCATTTCCCCCCTTTCCGGCCTGTGTTTGGGCGCCTTGTC\r\n",
      "GCGTCCATGCCCCGGCCACCGGACGATTATTGCTGATGGATGCTTGGTCCCGTAGTCTCGAGCGCCTCGA\r\n",
      "AGCGGAGTTCCCGCCGGAAGACGTTCATACCTGGTTGAAGCCGCTGCAGGCCGATCTGCGCGTGGACAGC\r\n",
      "CTGGTGCTGTATGCACCGAATGCCTTCATCGTCGACCAGGTCCGCGAGCTGTATCTGGCCCGGATCCGCG\r\n",
      "AACTGCTGGCTCATTTCGCCGGCTTCAGCGACGTTTTTCTTGAAATCGGCTCGCGCCCGCGCCCTGTGGA\r\n",
      "GGCGCAGAACACGCCGGTTTCCACGTCATCGGCGCATGTGTCCAGCGAACCGCAGGTGCCGTTCGCCGGC\r\n",
      "AACCTGGACAATCACTACACGTTCGCCAACTTCGTGGAAGGCCGCAGCAACCAGCTGGGCCTGGCCGCCG\r\n",
      "CCTTCCAGGCAGCGCAGAAGCCGGGCGACCGCGCGCACAACCCACTGCTGCTGTACGGAGGCACCGGCCT\r\n",
      "GGGCAAGACCCACCTGATGTTCGCCGCCGGCAACGCCATGCGCCAGGCCAATCCGGGCGCGAAGGTACTG\r\n"
     ]
    }
   ],
   "source": [
    "!head CP011306.1.fasta"
   ]
  },
  {
   "cell_type": "code",
   "execution_count": 9,
   "id": "d01f4fd7",
   "metadata": {},
   "outputs": [
    {
     "data": {
      "text/plain": [
       "['RR192_01_T13825_DNA_Seq111_S1_430035_reads_nh_Stenotroph.fasta',\n",
       " 'RR192_02_F3320_DNA_Seq111_S2_430036_reads_nh_Stenotroph.fasta',\n",
       " 'RR192_03_X49465_DNA_Seq111_S3_430037_reads_nh_Stenotroph.fasta',\n",
       " 'RR192_04_T18653_DNA_Seq111_S4_430038_reads_nh_Stenotroph.fasta',\n",
       " 'RR192_05_F19310_DNA_Seq111_S5_430039_reads_nh_Stenotroph.fasta',\n",
       " 'RR192_06_S12546_DNA_Seq111_S6_430040_reads_nh_Stenotroph.fasta',\n",
       " 'RR192_07_W54616_DNA_Seq115_S10_459587_reads_nh_Stenotroph.fasta']"
      ]
     },
     "execution_count": 9,
     "metadata": {},
     "output_type": "execute_result"
    }
   ],
   "source": [
    "sample_fastas = !(ls RR192*)\n",
    "sample_fastas"
   ]
  },
  {
   "cell_type": "code",
   "execution_count": 10,
   "id": "32af7bf6",
   "metadata": {},
   "outputs": [
    {
     "data": {
      "text/plain": [
       "['RR192_01_T13825_DNA_Seq111_S1',\n",
       " 'RR192_02_F3320_DNA_Seq111_S2',\n",
       " 'RR192_03_X49465_DNA_Seq111_S3',\n",
       " 'RR192_04_T18653_DNA_Seq111_S4',\n",
       " 'RR192_05_F19310_DNA_Seq111_S5',\n",
       " 'RR192_06_S12546_DNA_Seq111_S6',\n",
       " 'RR192_07_W54616_DNA_Seq115_S10']"
      ]
     },
     "execution_count": 10,
     "metadata": {},
     "output_type": "execute_result"
    }
   ],
   "source": [
    "names = []\n",
    "for file in sample_fastas:\n",
    "    sample_name_only = '_'.join(file.split('_')[:-4])\n",
    "    names.append(sample_name_only)\n",
    "names"
   ]
  },
  {
   "cell_type": "code",
   "execution_count": 11,
   "id": "5c5cfbe3",
   "metadata": {},
   "outputs": [
    {
     "data": {
      "text/plain": [
       "{'RR192_01_T13825_DNA_Seq111_S1': 'RR192_01_T13825_DNA_Seq111_S1_430035_reads_nh_Stenotroph.fasta',\n",
       " 'RR192_02_F3320_DNA_Seq111_S2': 'RR192_02_F3320_DNA_Seq111_S2_430036_reads_nh_Stenotroph.fasta',\n",
       " 'RR192_03_X49465_DNA_Seq111_S3': 'RR192_03_X49465_DNA_Seq111_S3_430037_reads_nh_Stenotroph.fasta',\n",
       " 'RR192_04_T18653_DNA_Seq111_S4': 'RR192_04_T18653_DNA_Seq111_S4_430038_reads_nh_Stenotroph.fasta',\n",
       " 'RR192_05_F19310_DNA_Seq111_S5': 'RR192_05_F19310_DNA_Seq111_S5_430039_reads_nh_Stenotroph.fasta',\n",
       " 'RR192_06_S12546_DNA_Seq111_S6': 'RR192_06_S12546_DNA_Seq111_S6_430040_reads_nh_Stenotroph.fasta',\n",
       " 'RR192_07_W54616_DNA_Seq115_S10': 'RR192_07_W54616_DNA_Seq115_S10_459587_reads_nh_Stenotroph.fasta'}"
      ]
     },
     "execution_count": 11,
     "metadata": {},
     "output_type": "execute_result"
    }
   ],
   "source": [
    "sample_names_paths = dict(zip(names, sample_fastas))\n",
    "sample_names_paths"
   ]
  },
  {
   "cell_type": "markdown",
   "id": "f89fa932",
   "metadata": {},
   "source": [
    "### Running the first step (short_read_alignments)"
   ]
  },
  {
   "cell_type": "code",
   "execution_count": 20,
   "id": "7daebdb3",
   "metadata": {},
   "outputs": [],
   "source": [
    "mkdir -p short_read_alignments"
   ]
  },
  {
   "cell_type": "code",
   "execution_count": 12,
   "id": "3728216c",
   "metadata": {},
   "outputs": [
    {
     "name": "stdout",
     "output_type": "stream",
     "text": [
      "total 4115640\r\n",
      "-rw-r--r-- 1 eric.waltari nogroup   4574222 Nov 21 10:57 CP011306.1.fasta\r\n",
      "-rw-r--r-- 1 eric.waltari nogroup   4545227 Nov 21 10:57 GCF_900475405.1.fasta\r\n",
      "-rw-r--r-- 1 eric.waltari nogroup 452984832 Nov 21 10:57 RR192_05_F19310_DNA_Seq111_S5_430039_reads_nh_Stenotroph.fasta\r\n",
      "-rw-r--r-- 1 eric.waltari nogroup 618286360 Nov 21 10:58 RR192_01_T13825_DNA_Seq111_S1_430035_reads_nh_Stenotroph.fasta\r\n",
      "-rw-r--r-- 1 eric.waltari nogroup 625518589 Nov 21 10:58 RR192_03_X49465_DNA_Seq111_S3_430037_reads_nh_Stenotroph.fasta\r\n",
      "-rw-r--r-- 1 eric.waltari nogroup 613593802 Nov 21 10:58 RR192_02_F3320_DNA_Seq111_S2_430036_reads_nh_Stenotroph.fasta\r\n",
      "-rw-r--r-- 1 eric.waltari nogroup 594285914 Nov 21 10:58 RR192_07_W54616_DNA_Seq115_S10_459587_reads_nh_Stenotroph.fasta\r\n",
      "-rw-r--r-- 1 eric.waltari nogroup 615869296 Nov 21 10:58 RR192_04_T18653_DNA_Seq111_S4_430038_reads_nh_Stenotroph.fasta\r\n",
      "-rw-r--r-- 1 eric.waltari nogroup 594068362 Nov 21 10:59 RR192_06_S12546_DNA_Seq111_S6_430040_reads_nh_Stenotroph.fasta\r\n",
      "-rw-r--r-- 1 eric.waltari nogroup     11543 Nov 21 11:23 notebook_spid_RR192_analysis.ipynb\r\n",
      "drwxr-sr-x 2 eric.waltari nogroup      4096 Dec 21 09:10 \u001b[0m\u001b[01;34mspidtest\u001b[0m/\r\n",
      "-rw-r--r-- 1 eric.waltari nogroup  90602211 Dec 21 12:34 spidoutS5.bam\r\n",
      "-rw-r--r-- 1 eric.waltari nogroup         0 Dec 21 12:34 spidoutS5.fa\r\n",
      "-rw-r--r-- 1 eric.waltari nogroup     13312 Dec 21 12:34 spidoutS5.bam.bai\r\n",
      "-rw-r--r-- 1 eric.waltari nogroup        28 Dec 21 12:34 CP011306.1.fasta.fai\r\n",
      "drwxr-sr-x 2 eric.waltari nogroup      4096 Feb 27 11:39 \u001b[01;34mshort_read_alignments\u001b[0m/\r\n"
     ]
    }
   ],
   "source": [
    "ls -ltr"
   ]
  },
  {
   "cell_type": "markdown",
   "id": "644fffdd",
   "metadata": {},
   "source": [
    "**note the reference we're using here is called LR135331.fasta** This reference is selected based on the CZID pipeline."
   ]
  },
  {
   "cell_type": "code",
   "execution_count": 13,
   "id": "95ce03b0",
   "metadata": {},
   "outputs": [],
   "source": [
    "align_short_read_commands = [f\"'spid.jl align_short_reads --threads 16 short_read_alignments/{names} CP096540.1.fasta {fasta_files}'\" for names, fasta_files in sample_names_paths.items()]\n"
   ]
  },
  {
   "cell_type": "code",
   "execution_count": 14,
   "id": "0e99d27a",
   "metadata": {},
   "outputs": [
    {
     "data": {
      "text/plain": [
       "[\"'spid.jl align_short_reads --threads 16 short_read_alignments/RR192_01_T13825_DNA_Seq111_S1 CP096540.1.fasta RR192_01_T13825_DNA_Seq111_S1_430035_reads_nh_Stenotroph.fasta'\",\n",
       " \"'spid.jl align_short_reads --threads 16 short_read_alignments/RR192_02_F3320_DNA_Seq111_S2 CP096540.1.fasta RR192_02_F3320_DNA_Seq111_S2_430036_reads_nh_Stenotroph.fasta'\",\n",
       " \"'spid.jl align_short_reads --threads 16 short_read_alignments/RR192_03_X49465_DNA_Seq111_S3 CP096540.1.fasta RR192_03_X49465_DNA_Seq111_S3_430037_reads_nh_Stenotroph.fasta'\",\n",
       " \"'spid.jl align_short_reads --threads 16 short_read_alignments/RR192_04_T18653_DNA_Seq111_S4 CP096540.1.fasta RR192_04_T18653_DNA_Seq111_S4_430038_reads_nh_Stenotroph.fasta'\",\n",
       " \"'spid.jl align_short_reads --threads 16 short_read_alignments/RR192_05_F19310_DNA_Seq111_S5 CP096540.1.fasta RR192_05_F19310_DNA_Seq111_S5_430039_reads_nh_Stenotroph.fasta'\",\n",
       " \"'spid.jl align_short_reads --threads 16 short_read_alignments/RR192_06_S12546_DNA_Seq111_S6 CP096540.1.fasta RR192_06_S12546_DNA_Seq111_S6_430040_reads_nh_Stenotroph.fasta'\",\n",
       " \"'spid.jl align_short_reads --threads 16 short_read_alignments/RR192_07_W54616_DNA_Seq115_S10 CP096540.1.fasta RR192_07_W54616_DNA_Seq115_S10_459587_reads_nh_Stenotroph.fasta'\"]"
      ]
     },
     "execution_count": 14,
     "metadata": {},
     "output_type": "execute_result"
    }
   ],
   "source": [
    "align_short_read_commands"
   ]
  },
  {
   "cell_type": "code",
   "execution_count": 15,
   "id": "6c0e0b34",
   "metadata": {},
   "outputs": [
    {
     "name": "stderr",
     "output_type": "stream",
     "text": [
      "sh: 1: parallel: not found\n"
     ]
    },
    {
     "data": {
      "text/plain": [
       "32512"
      ]
     },
     "execution_count": 15,
     "metadata": {},
     "output_type": "execute_result"
    }
   ],
   "source": [
    "os.system(f\" parallel ::: {' '.join(align_short_read_commands)}\")"
   ]
  },
  {
   "cell_type": "code",
   "execution_count": 20,
   "id": "40ef9b08",
   "metadata": {},
   "outputs": [
    {
     "data": {
      "text/plain": [
       "'spid.jl align_short_reads --threads 16 short_read_alignments/RR192_01_T13825_DNA_Seq111_S1 CP096540.1.fasta RR192_01_T13825_DNA_Seq111_S1_430035_reads_nh_Stenotroph.fasta'"
      ]
     },
     "execution_count": 20,
     "metadata": {},
     "output_type": "execute_result"
    }
   ],
   "source": [
    "\"\"'spid.jl align_short_reads --threads 16 short_read_alignments/RR192_01_T13825_DNA_Seq111_S1 CP096540.1.fasta RR192_01_T13825_DNA_Seq111_S1_430035_reads_nh_Stenotroph.fasta'\"\""
   ]
  },
  {
   "cell_type": "code",
   "execution_count": 19,
   "id": "842d3f1b",
   "metadata": {},
   "outputs": [
    {
     "name": "stdout",
     "output_type": "stream",
     "text": [
      "total 8\r\n",
      "drwxr-sr-x 2 eric.waltari nogroup 4096 Feb 27 11:39 \u001b[0m\u001b[01;34m.\u001b[0m/\r\n",
      "drwxr-sr-x 5 eric.waltari nogroup 4096 Feb 27 11:39 \u001b[01;34m..\u001b[0m/\r\n"
     ]
    }
   ],
   "source": [
    "ls -all short_read_alignments/"
   ]
  },
  {
   "cell_type": "markdown",
   "id": "694654b4",
   "metadata": {},
   "source": [
    "## align_assembly step if you have other references"
   ]
  },
  {
   "cell_type": "markdown",
   "id": "5e04860f",
   "metadata": {},
   "source": [
    "Command format: **spid.jl align_assembly {output filename} {orig_reference} {assembly_reference}**"
   ]
  },
  {
   "cell_type": "code",
   "execution_count": null,
   "id": "55ff16df",
   "metadata": {},
   "outputs": [],
   "source": [
    "mkdir -p align_assembly"
   ]
  },
  {
   "cell_type": "code",
   "execution_count": null,
   "id": "3f390eac",
   "metadata": {},
   "outputs": [],
   "source": [
    "#run align_assembly step with our \"original\" reference + ref 2 and \"original\" ref + ref 3\n",
    "#Here, CP019992 and CP025425 are two other references identified in CZID and downloaded from NCBI. \n",
    "\n",
    "align_assembly_commands = [\"'spid.jl align_assembly align_assembly/MRSAref2 CP096540.1.fasta ER01836.3.fasta'\"]"
   ]
  },
  {
   "cell_type": "code",
   "execution_count": null,
   "id": "e5b07662",
   "metadata": {},
   "outputs": [],
   "source": [
    "align_assembly_commands"
   ]
  },
  {
   "cell_type": "code",
   "execution_count": null,
   "id": "b2aa28fd",
   "metadata": {},
   "outputs": [],
   "source": [
    "os.system(f\" parallel ::: {' '.join(align_assembly_commands)}\")"
   ]
  },
  {
   "cell_type": "code",
   "execution_count": null,
   "id": "1b6405c3",
   "metadata": {},
   "outputs": [],
   "source": [
    "ls -ltr align_assembly/"
   ]
  },
  {
   "cell_type": "markdown",
   "id": "0ed0005e",
   "metadata": {},
   "source": [
    "## Last step - merge_alignments"
   ]
  },
  {
   "cell_type": "markdown",
   "id": "78a6c38e",
   "metadata": {},
   "source": [
    "**now, to do merge_alignments, we have to combine all the fastas we want to merge together, \n",
    "from short_read_alignments folder and the align_assembly folder**"
   ]
  },
  {
   "cell_type": "code",
   "execution_count": null,
   "id": "b6e104d2",
   "metadata": {},
   "outputs": [],
   "source": [
    "!mkdir -p files_to_do_merge_alignments"
   ]
  },
  {
   "cell_type": "code",
   "execution_count": null,
   "id": "cdb22b7e",
   "metadata": {},
   "outputs": [],
   "source": [
    "ls"
   ]
  },
  {
   "cell_type": "code",
   "execution_count": null,
   "id": "ebe5a2ed",
   "metadata": {},
   "outputs": [],
   "source": [
    "!cp align_assembly/M*.fa files_to_do_merge_alignments/"
   ]
  },
  {
   "cell_type": "code",
   "execution_count": null,
   "id": "1f12e1d9",
   "metadata": {},
   "outputs": [],
   "source": [
    "ls files_to_do_merge_alignments/"
   ]
  },
  {
   "cell_type": "code",
   "execution_count": null,
   "id": "0fc85dc3",
   "metadata": {},
   "outputs": [],
   "source": [
    "!cp short_read_alignments/*.fa files_to_do_merge_alignments/"
   ]
  },
  {
   "cell_type": "code",
   "execution_count": null,
   "id": "64b89d58",
   "metadata": {},
   "outputs": [],
   "source": [
    "ls files_to_do_merge_alignments/"
   ]
  },
  {
   "cell_type": "code",
   "execution_count": null,
   "id": "257dd7ee",
   "metadata": {},
   "outputs": [],
   "source": [
    "files_for_merge = !(ls files_to_do_merge_alignments/*.fa)\n",
    "files_for_merge"
   ]
  },
  {
   "cell_type": "code",
   "execution_count": null,
   "id": "0b0037ce",
   "metadata": {},
   "outputs": [],
   "source": [
    "{' '.join([f'{fasta_files}' for fasta_files in files_for_merge])}\n"
   ]
  },
  {
   "cell_type": "markdown",
   "id": "9a496cec",
   "metadata": {},
   "source": [
    "**Here, \"vre_samples\" is the name of subsequent output files, including the snp matrix**"
   ]
  },
  {
   "cell_type": "code",
   "execution_count": null,
   "id": "a24ecc8e",
   "metadata": {},
   "outputs": [],
   "source": [
    "os.system(f\" spid.jl merge_alignments RR108_Sept2023 CP096540.1.fasta {' '.join([f'{fasta_files}' for fasta_files in files_for_merge])}\")\n"
   ]
  },
  {
   "cell_type": "code",
   "execution_count": null,
   "id": "b8375a63",
   "metadata": {},
   "outputs": [],
   "source": [
    "ls -ltr"
   ]
  },
  {
   "cell_type": "markdown",
   "id": "2f1d22fd",
   "metadata": {},
   "source": [
    "## Looking at outputs"
   ]
  },
  {
   "cell_type": "code",
   "execution_count": null,
   "id": "d47815f6",
   "metadata": {},
   "outputs": [],
   "source": [
    "!head RR108_Sept2023.fa.pairwise_diffs.csv"
   ]
  },
  {
   "cell_type": "code",
   "execution_count": null,
   "id": "7d39a496",
   "metadata": {},
   "outputs": [],
   "source": [
    "pairwise_diffs = pd.read_csv('RR108_Sept2023.fa.pairwise_diffs.csv')\n",
    "pairwise_diffs"
   ]
  },
  {
   "cell_type": "code",
   "execution_count": null,
   "id": "b0cc275d",
   "metadata": {},
   "outputs": [],
   "source": [
    "plt.hist(pairwise_diffs['SharedGenomeLen'], bins=25)"
   ]
  },
  {
   "cell_type": "markdown",
   "id": "0ecd87c5",
   "metadata": {},
   "source": [
    "**Adding a column that is snps/kb (divide numdiffs/sharedgenomelen then *1000)**"
   ]
  },
  {
   "cell_type": "code",
   "execution_count": null,
   "id": "cac6c3e4",
   "metadata": {},
   "outputs": [],
   "source": [
    "pairwise_diffs['snps/kb'] = pairwise_diffs['NumDiffs']/pairwise_diffs['SharedGenomeLen'] * 1000\n",
    "pairwise_diffs"
   ]
  },
  {
   "cell_type": "code",
   "execution_count": null,
   "id": "d5b7cdb9",
   "metadata": {},
   "outputs": [],
   "source": [
    "## April 2023 added code to identify samples with very short alignments...BEST TO REMOVE THESE AND RE-RUN!!\n",
    "## R equivalent (translated via chatGPT)\n",
    "#dataframe2 <- dataframe %>%\n",
    "#  group_by(name1) %>%\n",
    "#  summarize(length = mean(SharedGenomeLen))\n",
    "# followed by\n",
    "#pairwise_diffs_len_short <- pairwise_diffs_len %>%\n",
    "#  filter(meanlen < (mean(pairwise_diffs_len$meanlen) * 0.75))\n",
    "#pairwise_diffs_len_short$Contig1\n",
    "\n",
    "pairwise_diffs2 = pairwise_diffs.groupby('Contig1').agg({'SharedGenomeLen': 'mean'}).reset_index()\n",
    "#pairwise_diffs2 = pairwise_diffs2.rename(columns={'SharedGenomeLen': 'meanlength'})\n",
    "#This code groups the DataFrame dataframe by the name1 column, calculates the mean of the SharedGenomeLen column for each group,\n",
    "# and returns a new DataFrame dataframe2 with the resulting summary.\n",
    "#The reset_index() function is used to convert the grouped DataFrame into a regular DataFrame, \n",
    "# and the rename() function is used to rename the resulting column SharedGenomeLen to length.\n",
    "\n",
    "pairwise_diffs_short = pairwise_diffs2[pairwise_diffs2['SharedGenomeLen'] < (pairwise_diffs['SharedGenomeLen'].mean() * 0.75)]\n",
    "pairwise_diffs_short\n",
    "## AGAIN RECOMMENDATION IS TO REMOVE THESE SAMPLES AND RE-RUN BEFORE MOVING TO R SCRIPT"
   ]
  },
  {
   "cell_type": "code",
   "execution_count": null,
   "id": "09414723",
   "metadata": {},
   "outputs": [],
   "source": [
    "plt.hist(pairwise_diffs['snps/kb'],  bins=50, color='g')"
   ]
  },
  {
   "cell_type": "code",
   "execution_count": null,
   "id": "8eabec22",
   "metadata": {},
   "outputs": [],
   "source": [
    " pivoted_snps = pairwise_diffs.pivot(index=\"Contig1\", columns=\"Contig2\", values=\"snps/kb\")\n",
    "pivoted_snps"
   ]
  },
  {
   "cell_type": "markdown",
   "id": "9ba2ce15",
   "metadata": {},
   "source": [
    "### Plotting heatmap of the snp differences between samples ###"
   ]
  },
  {
   "cell_type": "code",
   "execution_count": null,
   "id": "a6549f3e",
   "metadata": {},
   "outputs": [],
   "source": [
    "sns.heatmap(pivoted_snps, cmap='viridis')"
   ]
  },
  {
   "cell_type": "code",
   "execution_count": null,
   "id": "bd244e20",
   "metadata": {},
   "outputs": [],
   "source": [
    "heatmap = sns.heatmap(pivoted_snps, fmt=\".2f\", cmap='viridis', annot=True, linewidths=0.5)"
   ]
  },
  {
   "cell_type": "code",
   "execution_count": null,
   "id": "f7a1ca62",
   "metadata": {},
   "outputs": [],
   "source": [
    "fig = heatmap.get_figure()\n",
    "fig.savefig('snps_per_kb_vre_samples.png', dpi=300, bbox_inches='tight', pad_inches=0.5)"
   ]
  },
  {
   "cell_type": "code",
   "execution_count": null,
   "id": "5ed995cf",
   "metadata": {},
   "outputs": [],
   "source": []
  }
 ],
 "metadata": {
  "kernelspec": {
   "display_name": "Python 3 (ipykernel)",
   "language": "python",
   "name": "python3"
  },
  "language_info": {
   "codemirror_mode": {
    "name": "ipython",
    "version": 3
   },
   "file_extension": ".py",
   "mimetype": "text/x-python",
   "name": "python",
   "nbconvert_exporter": "python",
   "pygments_lexer": "ipython3",
   "version": "3.11.8"
  }
 },
 "nbformat": 4,
 "nbformat_minor": 5
}
